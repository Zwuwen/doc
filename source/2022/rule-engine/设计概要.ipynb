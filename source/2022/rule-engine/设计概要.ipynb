{
 "cells": [
  {
   "cell_type": "markdown",
   "source": [
    "# 设计概要"
   ],
   "metadata": {
    "collapsed": false
   }
  },
  {
   "cell_type": "markdown",
   "source": [
    "## 名词解释说明"
   ],
   "metadata": {
    "collapsed": false
   }
  },
  {
   "cell_type": "markdown",
   "source": [
    "## 功能说明\n",
    "设备只有当其为“自动模式”时,才允许执行规则引擎产生的控制指令\n",
    "规则引擎的功能有:\n",
    "\n",
    "1. 智盒内部定时/联动\n",
    "2. 平台测的联动\n",
    "3. 自动模式下的临时手动控制"
   ],
   "metadata": {
    "collapsed": false
   }
  },
  {
   "cell_type": "markdown",
   "source": [
    "## 系统结构\n",
    "![系统结构](https://github.com/Zwuwen/picture-host/blob/master/work/rule_engine/%E7%B3%BB%E7%BB%9F%E7%BB%93%E6%9E%84.png?raw=true)"
   ],
   "metadata": {
    "collapsed": false
   }
  },
  {
   "cell_type": "markdown",
   "source": [
    "## 模块分类\n",
    "![模型结构](https://github.com/Zwuwen/picture-host/blob/master/work/rule_engine/%E8%A7%84%E5%88%99%E5%BC%95%E6%93%8E%E6%A8%A1%E5%9D%97.png?raw=true)"
   ],
   "metadata": {
    "collapsed": false
   }
  },
  {
   "cell_type": "markdown",
   "source": [
    "## 模块结构\n",
    "![模块结构](https://github.com/Zwuwen/picture-host/blob/master/work/rule_engine/%E6%A8%A1%E5%9D%97%E7%BB%93%E6%9E%84.png?raw=true)"
   ],
   "metadata": {
    "collapsed": false
   }
  },
  {
   "cell_type": "markdown",
   "source": [
    "## 接口\n",
    "### 添加规则\n",
    "### 更新规则\n",
    "### 删除规则\n",
    "### 查询规则列表\n",
    "### 查询规则详情\n",
    "### 启用策略\n",
    "### 停用策略\n",
    "### 规则统计\n",
    "### 外部事件联动\n",
    "### 查询设备知识"
   ],
   "metadata": {
    "collapsed": false
   }
  },
  {
   "cell_type": "markdown",
   "source": [
    "## 数据库表\n",
    "![表关系](https://github.com/Zwuwen/picture-host/blob/master/work/rule_engine/db.png?raw=true)"
   ],
   "metadata": {
    "collapsed": false
   }
  },
  {
   "cell_type": "markdown",
   "source": [
    "## 关键流程"
   ],
   "metadata": {
    "collapsed": false
   }
  }
 ],
 "metadata": {
  "kernelspec": {
   "display_name": "Python 3",
   "language": "python",
   "name": "python3"
  },
  "language_info": {
   "codemirror_mode": {
    "name": "ipython",
    "version": 2
   },
   "file_extension": ".py",
   "mimetype": "text/x-python",
   "name": "python",
   "nbconvert_exporter": "python",
   "pygments_lexer": "ipython2",
   "version": "2.7.6"
  }
 },
 "nbformat": 4,
 "nbformat_minor": 0
}
