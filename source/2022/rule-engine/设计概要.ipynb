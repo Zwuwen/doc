{
 "cells": [
  {
   "cell_type": "markdown",
   "source": [
    "# 设计概要"
   ],
   "metadata": {
    "collapsed": false
   }
  },
  {
   "cell_type": "markdown",
   "source": [
    "## 名词解释说明\n"
   ],
   "metadata": {
    "collapsed": false
   }
  },
  {
   "cell_type": "markdown",
   "source": [
    "## 功能说明"
   ],
   "metadata": {
    "collapsed": false
   }
  },
  {
   "cell_type": "markdown",
   "source": [
    "## 系统结构"
   ],
   "metadata": {
    "collapsed": false
   }
  },
  {
   "cell_type": "markdown",
   "source": [
    "## 模块分类"
   ],
   "metadata": {
    "collapsed": false
   }
  },
  {
   "cell_type": "markdown",
   "source": [
    "## 模块结构"
   ],
   "metadata": {
    "collapsed": false
   }
  },
  {
   "cell_type": "markdown",
   "source": [
    "## 接口\n",
    "### 添加规则\n",
    "#### x1\n",
    "#### x1\n",
    "#### x1\n",
    "### 更新规则\n",
    "#### x1\n",
    "#### x1\n",
    "#### x1\n",
    "### 删除规则\n",
    "#### x1\n",
    "#### x1\n",
    "#### x1\n",
    "### 查询规则列表\n",
    "#### x1\n",
    "### 查询规则详情\n",
    "### 启用策略\n",
    "### 停用策略\n",
    "### 规则统计\n",
    "### 外部事件联动\n",
    "### 查询设备知识"
   ],
   "metadata": {
    "collapsed": false
   }
  },
  {
   "cell_type": "markdown",
   "source": [
    "## 数据库表"
   ],
   "metadata": {
    "collapsed": false
   }
  },
  {
   "cell_type": "markdown",
   "source": [
    "## 关键流程\n",
    "### 策略执行"
   ],
   "metadata": {
    "collapsed": false
   }
  }
 ],
 "metadata": {
  "kernelspec": {
   "display_name": "Python 3",
   "language": "python",
   "name": "python3"
  },
  "language_info": {
   "codemirror_mode": {
    "name": "ipython",
    "version": 2
   },
   "file_extension": ".py",
   "mimetype": "text/x-python",
   "name": "python",
   "nbconvert_exporter": "python",
   "pygments_lexer": "ipython2",
   "version": "2.7.6"
  }
 },
 "nbformat": 4,
 "nbformat_minor": 0
}
